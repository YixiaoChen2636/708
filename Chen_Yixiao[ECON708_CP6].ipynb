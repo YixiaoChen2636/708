{
 "cells": [
  {
   "cell_type": "markdown",
   "metadata": {},
   "source": [
    "This problem set must be submitted no later than 03/12/2024 via Canvas. Save your work to this Jupyter Notebook and rename it using the naming convention \"Lastname_Firstname[ECON708_CP6] where you replace \"Lastname\" with your lastname and \"Firstname\" with your firstname. Prepare to submit your work well in advance of the deadline as no late work will be accepted. Each line of code that includes a method or function must be commented to explain what is achieved and how/why that result is pivotal to the success of your script. You may collaborate with peers but what you turn in must be original work. To that end, students are required to include the names of any peers they collaborate with on this assignment. ['list names here']\n",
    "\n",
    "# 1: Difference in Differences (2 points)\n",
    "\n",
    "A prospective employer receives two resumes: a resume from a white job applicant and a similar resume from an African American applicant. Is the employer more likely to call back the white applicant to arrange an interview? Marianne Bertrand and Sendhil Mullainathan carried out a randomized controlled experiment to answer this question. Because race is not typically inclued on a resume, they differentiated resumes on the basis of \"White-sounding\" names and \"African American-sounding\" names. A large collection of fictitious resumes was created, and the presupposed \"race\" was randomly assigned to each resume. These resumes were sent ot prospective employers to see which resumes generated a phone call (a call back) from the prospecive employer. Data from the experiment and a detailed data description are attached to the assignment description\n",
    "\n",
    "A. Define the callback rate as the fraction of resumes that generate a phone call from the prospective employer. What was the callback rate for whites? For African Americans? Is the difference statistically significant? Is the difference large?\n",
    "\n",
    "B. Is the African American callback rate differential different based upon gender?\n",
    "\n",
    "C. What is the difference in callback rates for high-quality vs. low-quality resumes? What is the high/low quality difference for white applicants? What is the high/low quality difference for African American applicants? Is there a statistically significant difference between these differences?\n",
    "\n",
    "D. The authors of the study claim that race was assigned randomly to the resumes. Is there any evidence of non-random assignment?"
   ]
  },
  {
   "cell_type": "code",
   "execution_count": 1,
   "metadata": {},
   "outputs": [],
   "source": [
    "# Step A: Code"
   ]
  },
  {
   "cell_type": "markdown",
   "metadata": {},
   "source": [
    "### Step A: Written Response\n",
    "\n"
   ]
  },
  {
   "cell_type": "code",
   "execution_count": null,
   "metadata": {},
   "outputs": [],
   "source": [
    "# Step B: Code"
   ]
  },
  {
   "cell_type": "markdown",
   "metadata": {},
   "source": [
    "### Step B: Written Response"
   ]
  },
  {
   "cell_type": "code",
   "execution_count": null,
   "metadata": {},
   "outputs": [],
   "source": [
    "# Step C: Code"
   ]
  },
  {
   "cell_type": "markdown",
   "metadata": {},
   "source": [
    "### Step C: Written Response"
   ]
  },
  {
   "cell_type": "code",
   "execution_count": null,
   "metadata": {},
   "outputs": [],
   "source": [
    "# Step D: Code"
   ]
  },
  {
   "cell_type": "markdown",
   "metadata": {},
   "source": [
    "### Step D: Written Response\n"
   ]
  },
  {
   "cell_type": "markdown",
   "metadata": {},
   "source": [
    "# 2: IV Example (2 points)\n",
    "\n",
    "Does viewing a violent movie lead to violent behavior? If so, the incidence of violent crimes, such as assaults, should rise following the release of a violent movie that attracts many viewers. Alternatively, movie viewing may substitute for other activities (such as alcohol consumption) that lead to violent behavior. so that assaults should fall when more viewers are attracted to the cinema. On the assignment description you will find thefile `Movies`, which contains data on the number of assaults and movie attendance for 516 weekends from 1995 through 2004. A detailed description is given in `Movies_Description`, also available on the assignment description. The data set includes weekend U.S. attendance for strongly violent movies (such as *Hannibal*), mildly violent movies (such as *Spider-Man*) ,and nonviolent movies (such as *Finding Nemo*). The data set\n",
    "also includes a count of the number of assaults for the same weekend in a subset of counties in the United States. Finally, the data set include indicator for year, month, whether the weekend is a holiday, and various measures of the weather."
   ]
  },
  {
   "cell_type": "markdown",
   "metadata": {},
   "source": [
    "### A: \n",
    "- Regress the logarithm of the number of assaults (`ln_assaults`) on the year and month indicators. I there evidence of seasonality in asaults? That is, do there tend to be more assaults in some months compared to others? Explain.\n",
    "- Regress total movie attendance (`attend` = `attend_v` + `attend_m` + `attend_n`) on the year and month indicators. Is there evidence of seasonality in movie attendance? Explain."
   ]
  },
  {
   "cell_type": "code",
   "execution_count": null,
   "metadata": {},
   "outputs": [],
   "source": [
    "#A: Code"
   ]
  },
  {
   "cell_type": "markdown",
   "metadata": {},
   "source": [
    "### B: \n",
    "\n",
    "Regress `ln_assaults` on `attend_v`. `attend_m`, `attend_n`, the `year` and `month` indicators, and the weather and holiday control variables that appear in the dataset. \n",
    "- Based on the regression, does viewing a strongly violent movie increase or decrease assaults? By how much? Is it a statistically significant effect?.\n",
    "- Does attendance at strongly violent movies affect assaults differently than attendance at moderately violent movies? Differently than attendance at nonviolent movies?\n",
    "- A strongly violent blockbuster movie is released, and the weekend's attendance at strongly violent movies increases by 6 million; meanwhile, attendance falls by 2 million for moderately violent movies and by 1 million for nonviolent movies. What is the predicted effect on assaults? \n",
    "\n"
   ]
  },
  {
   "cell_type": "code",
   "execution_count": 2,
   "metadata": {},
   "outputs": [],
   "source": [
    "#B: Code"
   ]
  },
  {
   "cell_type": "markdown",
   "metadata": {},
   "source": [
    "### C: \n",
    "\n",
    "It is difficult to control for all the variables that affect assaults and that might be correlated with movie attendance. For example, the effect of the weather on assaults and movie attendance is only crudely approximated by the weather variables in the data set. However, the data set does include a set of instruments (`pr _attend_v` ,`pr _attend_m`, and `pr_attend_n`) that are correlated with attendance but are (arguably) uncorrelated with weekend-specific factors (such as the weather) that affect\n",
    "both assaults and movie attendance. These instruments use historical attendance patterns, not information on a particular weekend, to predict a film's attendance in a given weekend. For example, if a film's attendance is high in the second week of its release, then this can be used to predict that its attendance was also high in the first week of its release. Run the regression from (b) (including year, month, holiday, and weather controls) but now using `pr _attend_v` ,`pr _attend_m`, and `pr_attend_n` as instruments for `attend_v` ,`attend_m`, and `attend_n`. Use this IV regression to answer all of the questions posed in part (B): \n",
    "- Based on the regression, does viewing a strongly violent movie increase or decrease assaults? By how much? Is it a statistically significant effect?.\n",
    "- Does attendance at strongly violent movies affect assaults differently than attendance at moderately violent movies? Differently than attendance at nonviolent movies?\n",
    "- A strongly violent blockbuster movie is released, and the weekend's attendance at strongly violent movies increases by 6 million; meanwhile, attendance falls by 2 million for moderately violent movies and by 1 million for nonviolent movies. What is the predicted effect on assaults? \n"
   ]
  },
  {
   "cell_type": "code",
   "execution_count": 3,
   "metadata": {},
   "outputs": [],
   "source": [
    "#C: Code"
   ]
  },
  {
   "cell_type": "markdown",
   "metadata": {},
   "source": [
    "### D: \n",
    "\n",
    "The  intuition underlying the instruments in (C) is that attendance in a given week is correlated with attendance in surrounding weeks. For each movie category, the data set includes attendance in surrounding weeks. Run the regression using the instruments `attend_v_f` ,`attend_m_f`, `attend_n_f`, `attend_v_b` ,`attend_m_b`, and `attend_n_b` instead of the instruments used in (C). Use this IV regression to answer:\n",
    "\n",
    "- Based on the regression, does viewing a strongly violent movie increase or decrease assaults? By how much? Is it a statistically significant effect?.\n",
    "- Does attendance at strongly violent movies affect assaults differently than attendance at moderately violent movies? Differently than attendance at nonviolent movies?\n",
    "- A strongly violent blockbuster movie is released, and the weekend's attendance at strongly violent movies increases by 6 million; meanwhile, attendance falls by 2 million for moderately violent movies and by 1 million for nonviolent movies. What is the predicted effect on assaults? "
   ]
  },
  {
   "cell_type": "code",
   "execution_count": null,
   "metadata": {},
   "outputs": [],
   "source": [
    "#D: Code"
   ]
  },
  {
   "cell_type": "markdown",
   "metadata": {},
   "source": [
    "### E: \n",
    "\n",
    "Is more better? Are the estimates generated in (D) superior to those in (C)? Explain, with clarity and in detail, why or why not."
   ]
  },
  {
   "cell_type": "code",
   "execution_count": null,
   "metadata": {},
   "outputs": [],
   "source": [
    "#E: Code"
   ]
  }
 ],
 "metadata": {
  "kernelspec": {
   "display_name": "Python 3 (ipykernel)",
   "language": "python",
   "name": "python3"
  },
  "language_info": {
   "codemirror_mode": {
    "name": "ipython",
    "version": 3
   },
   "file_extension": ".py",
   "mimetype": "text/x-python",
   "name": "python",
   "nbconvert_exporter": "python",
   "pygments_lexer": "ipython3",
   "version": "3.11.5"
  }
 },
 "nbformat": 4,
 "nbformat_minor": 4
}
